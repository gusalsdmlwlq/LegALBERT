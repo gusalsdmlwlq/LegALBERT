{
 "cells": [
  {
   "cell_type": "code",
   "execution_count": 1,
   "metadata": {},
   "outputs": [],
   "source": [
    "with open(\"data/training_data.txt\", \"r\", encoding=\"utf-8\") as f:\n",
    "    data = f.read().split(\"\\n\")"
   ]
  },
  {
   "cell_type": "code",
   "execution_count": 2,
   "metadata": {},
   "outputs": [
    {
     "data": {
      "text/plain": [
       "6138630"
      ]
     },
     "execution_count": 2,
     "metadata": {},
     "output_type": "execute_result"
    }
   ],
   "source": [
    "len(data)"
   ]
  },
  {
   "cell_type": "code",
   "execution_count": 3,
   "metadata": {},
   "outputs": [
    {
     "name": "stderr",
     "output_type": "stream",
     "text": [
      "I0829 17:22:26.188066 36932 file_utils.py:39] PyTorch version 1.2.0 available.\n"
     ]
    }
   ],
   "source": [
    "from transformers import BertTokenizer\n",
    "from nltk import sent_tokenize"
   ]
  },
  {
   "cell_type": "code",
   "execution_count": 4,
   "metadata": {},
   "outputs": [],
   "source": [
    "tokenizer = BertTokenizer(\"assets/vocab.txt\")"
   ]
  },
  {
   "cell_type": "code",
   "execution_count": 5,
   "metadata": {},
   "outputs": [],
   "source": [
    "new_data = []"
   ]
  },
  {
   "cell_type": "code",
   "execution_count": 6,
   "metadata": {},
   "outputs": [],
   "source": [
    "min_token_length = 5\n",
    "max_token_length = 510"
   ]
  },
  {
   "cell_type": "code",
   "execution_count": 7,
   "metadata": {},
   "outputs": [],
   "source": [
    "import re\n",
    "\n",
    "def clean_text(text):    \n",
    "    text = re.sub(r\"\\s+\", \" \", text)\n",
    "    text = text.replace(\". \", \".\")\n",
    "    text = re.sub(r\"([ㄱ-ㅎㅏ-ㅣ가-힣])\\.([\\S])\", r\"\\1. \\2\", text)\n",
    "    text = re.sub(r\"([\\S])\\.([ㄱ-ㅎㅏ-ㅣ가-힣])\", r\"\\1. \\2\", text)\n",
    "    text = text.strip()\n",
    "    \n",
    "    return text"
   ]
  },
  {
   "cell_type": "code",
   "execution_count": 8,
   "metadata": {},
   "outputs": [
    {
     "name": "stdout",
     "output_type": "stream",
     "text": [
      "8256.07610821724\n"
     ]
    }
   ],
   "source": [
    "import time\n",
    "\n",
    "start = time.time()\n",
    "for row in data:\n",
    "    tokens = []\n",
    "    if len(tokenizer.tokenize(row)) <= min_token_length:\n",
    "        continue\n",
    "    sentences = sent_tokenize(row)\n",
    "    for sent in sentences:\n",
    "        tokens_ = tokenizer.tokenize(sent)\n",
    "        if len(tokens) + len(tokens_) <= max_token_length:\n",
    "            tokens += tokens_\n",
    "        else:\n",
    "            new_data.append(clean_text(tokenizer.decode(tokenizer.convert_tokens_to_ids(tokens))))\n",
    "            tokens = tokens_[:max_token_length]\n",
    "    new_data.append(clean_text(tokenizer.decode(tokenizer.convert_tokens_to_ids(tokens))))\n",
    "    tokens = []\n",
    "with open(\"data/training_data_processed.txt\", \"w\", encoding=\"utf-8\") as f:\n",
    "    for row in new_data:\n",
    "        f.write(row+\"\\n\")\n",
    "end = time.time()\n",
    "print(end-start)"
   ]
  },
  {
   "cell_type": "code",
   "execution_count": 22,
   "metadata": {},
   "outputs": [
    {
     "name": "stdout",
     "output_type": "stream",
     "text": [
      "3576.90456700325\n"
     ]
    }
   ],
   "source": [
    "start = time.time()\n",
    "num_tokens = 0\n",
    "for row in new_data:\n",
    "    num_tokens += len(tokenizer.tokenize(row))\n",
    "end = time.time()\n",
    "print(end-start)"
   ]
  },
  {
   "cell_type": "code",
   "execution_count": 23,
   "metadata": {},
   "outputs": [
    {
     "data": {
      "text/plain": [
       "442843545"
      ]
     },
     "execution_count": 23,
     "metadata": {},
     "output_type": "execute_result"
    }
   ],
   "source": [
    "num_tokens"
   ]
  },
  {
   "cell_type": "code",
   "execution_count": 24,
   "metadata": {},
   "outputs": [
    {
     "data": {
      "text/plain": [
       "6138630"
      ]
     },
     "execution_count": 24,
     "metadata": {},
     "output_type": "execute_result"
    }
   ],
   "source": [
    "len(data)"
   ]
  },
  {
   "cell_type": "code",
   "execution_count": 25,
   "metadata": {},
   "outputs": [
    {
     "data": {
      "text/plain": [
       "5596640"
      ]
     },
     "execution_count": 25,
     "metadata": {},
     "output_type": "execute_result"
    }
   ],
   "source": [
    "len(new_data)"
   ]
  },
  {
   "cell_type": "code",
   "execution_count": null,
   "metadata": {},
   "outputs": [],
   "source": []
  }
 ],
 "metadata": {
  "kernelspec": {
   "display_name": "Python 3",
   "language": "python",
   "name": "python3"
  },
  "language_info": {
   "codemirror_mode": {
    "name": "ipython",
    "version": 3
   },
   "file_extension": ".py",
   "mimetype": "text/x-python",
   "name": "python",
   "nbconvert_exporter": "python",
   "pygments_lexer": "ipython3",
   "version": "3.7.4"
  }
 },
 "nbformat": 4,
 "nbformat_minor": 4
}
