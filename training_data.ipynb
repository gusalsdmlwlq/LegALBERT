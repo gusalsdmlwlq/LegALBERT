{
 "cells": [
  {
   "cell_type": "code",
   "execution_count": 12,
   "metadata": {
    "collapsed": true
   },
   "outputs": [],
   "source": [
    "with open(\"data/bert/data.txt\", \"r\", encoding=\"utf-8\") as f:\n",
    "    data = f.read().split(\"\\n\")"
   ]
  },
  {
   "cell_type": "code",
   "execution_count": 13,
   "metadata": {
    "collapsed": false
   },
   "outputs": [
    {
     "data": {
      "text/plain": [
       "7170932"
      ]
     },
     "execution_count": 13,
     "metadata": {},
     "output_type": "execute_result"
    }
   ],
   "source": [
    "len(data)"
   ]
  },
  {
   "cell_type": "code",
   "execution_count": 14,
   "metadata": {
    "collapsed": false
   },
   "outputs": [],
   "source": [
    "from tokenizers import BertWordPieceTokenizer\n",
    "from nltk import sent_tokenize"
   ]
  },
  {
   "cell_type": "code",
   "execution_count": 15,
   "metadata": {
    "collapsed": true
   },
   "outputs": [],
   "source": [
    "tokenizer = BertWordPieceTokenizer(\"assets/kor-vocab.txt\", lowercase=False)"
   ]
  },
  {
   "cell_type": "code",
   "execution_count": 16,
   "metadata": {
    "collapsed": true
   },
   "outputs": [],
   "source": [
    "new_data = []\n",
    "num_tokens = 0"
   ]
  },
  {
   "cell_type": "code",
   "execution_count": 17,
   "metadata": {
    "collapsed": true
   },
   "outputs": [],
   "source": [
    "min_token_length = 5\n",
    "max_token_length = 510"
   ]
  },
  {
   "cell_type": "code",
   "execution_count": 18,
   "metadata": {
    "collapsed": true
   },
   "outputs": [],
   "source": [
    "import re\n",
    "\n",
    "def clean_text(text):    \n",
    "    text = re.sub(r\"\\s+\", \" \", text)\n",
    "    text = text.replace(\". \", \".\")\n",
    "    text = re.sub(r\"([ㄱ-ㅎㅏ-ㅣ가-힣])\\.([\\S])\", r\"\\1. \\2\", text)\n",
    "    text = re.sub(r\"([\\S])\\.([ㄱ-ㅎㅏ-ㅣ가-힣])\", r\"\\1. \\2\", text)\n",
    "    text = text.strip()\n",
    "    \n",
    "    return text"
   ]
  },
  {
   "cell_type": "code",
   "execution_count": 19,
   "metadata": {
    "collapsed": false
   },
   "outputs": [
    {
     "name": "stderr",
     "output_type": "stream",
     "text": [
      "100%|██████████| 7170932/7170932 [1:41:01<00:00, 1183.07it/s]\n"
     ]
    },
    {
     "name": "stdout",
     "output_type": "stream",
     "text": [
      "6079.199527025223\n"
     ]
    }
   ],
   "source": [
    "import time\n",
    "from tqdm import tqdm\n",
    "\n",
    "start = time.time()\n",
    "for row in tqdm(data, total=len(data)):\n",
    "    tokens = []\n",
    "    if len(tokenizer.encode(row, add_special_tokens=False).ids) <= min_token_length:\n",
    "        continue\n",
    "    sentences = sent_tokenize(row)\n",
    "    for sent in sentences:\n",
    "        tokens_ = tokenizer.encode(sent, add_special_tokens=False).ids\n",
    "        if len(tokens) + len(tokens_) <= max_token_length:\n",
    "            tokens += tokens_\n",
    "        else:\n",
    "            new_data.append(clean_text(tokenizer.decode(tokens)))\n",
    "            num_tokens += len(tokens)\n",
    "            tokens = tokens_[:max_token_length]\n",
    "    new_data.append(clean_text(tokenizer.decode(tokens)))\n",
    "    num_tokens += len(tokens)\n",
    "    tokens = []\n",
    "with open(\"data/bert/data_processed.txt\", \"w\", encoding=\"utf-8\") as f:\n",
    "    for row in new_data:\n",
    "        f.write(row+\"\\n\")\n",
    "end = time.time()\n",
    "print(end-start)"
   ]
  },
  {
   "cell_type": "code",
   "execution_count": 20,
   "metadata": {
    "collapsed": false
   },
   "outputs": [
    {
     "data": {
      "text/plain": [
       "432347819"
      ]
     },
     "execution_count": 20,
     "metadata": {},
     "output_type": "execute_result"
    }
   ],
   "source": [
    "num_tokens"
   ]
  },
  {
   "cell_type": "code",
   "execution_count": 21,
   "metadata": {
    "collapsed": false
   },
   "outputs": [
    {
     "data": {
      "text/plain": [
       "7170932"
      ]
     },
     "execution_count": 21,
     "metadata": {},
     "output_type": "execute_result"
    }
   ],
   "source": [
    "len(data)"
   ]
  },
  {
   "cell_type": "code",
   "execution_count": 22,
   "metadata": {
    "collapsed": false
   },
   "outputs": [
    {
     "data": {
      "text/plain": [
       "6160035"
      ]
     },
     "execution_count": 22,
     "metadata": {},
     "output_type": "execute_result"
    }
   ],
   "source": [
    "len(new_data)"
   ]
  },
  {
   "cell_type": "code",
   "execution_count": 23,
   "metadata": {
    "collapsed": true
   },
   "outputs": [],
   "source": [
    "import random\n",
    "random.seed(1)\n",
    "random.shuffle(new_data)"
   ]
  },
  {
   "cell_type": "code",
   "execution_count": 24,
   "metadata": {
    "collapsed": true
   },
   "outputs": [],
   "source": [
    "with open(\"data/bert/train_data.txt\", \"w\") as f:\n",
    "    for row in new_data[:-100000]:\n",
    "        f.write(row+\"\\n\")\n",
    "    f.close()\n",
    "with open(\"data/bert/dev_data.txt\", \"w\") as f:\n",
    "    for row in new_data[-100000:]:\n",
    "        f.write(row+\"\\n\")\n",
    "    f.close()"
   ]
  },
  {
   "cell_type": "code",
   "execution_count": null,
   "metadata": {
    "collapsed": true
   },
   "outputs": [],
   "source": []
  }
 ],
 "metadata": {
  "kernelspec": {
   "display_name": "Python 3",
   "language": "python",
   "name": "python3"
  },
  "language_info": {
   "codemirror_mode": {
    "name": "ipython",
    "version": 3
   },
   "file_extension": ".py",
   "mimetype": "text/x-python",
   "name": "python",
   "nbconvert_exporter": "python",
   "pygments_lexer": "ipython3",
   "version": "3.6.10"
  }
 },
 "nbformat": 4,
 "nbformat_minor": 4
}
