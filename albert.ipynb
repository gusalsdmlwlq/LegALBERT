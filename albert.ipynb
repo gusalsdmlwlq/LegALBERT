{
 "cells": [
  {
   "cell_type": "code",
   "execution_count": 1,
   "metadata": {
    "collapsed": false
   },
   "outputs": [
    {
     "name": "stderr",
     "output_type": "stream",
     "text": [
      "/home/jhm9507/anaconda3/envs/convlab/lib/python3.6/site-packages/tensorflow/python/framework/dtypes.py:493: FutureWarning: Passing (type, 1) or '1type' as a synonym of type is deprecated; in a future version of numpy, it will be understood as (type, (1,)) / '(1,)type'.\n",
      "  _np_qint8 = np.dtype([(\"qint8\", np.int8, 1)])\n",
      "/home/jhm9507/anaconda3/envs/convlab/lib/python3.6/site-packages/tensorflow/python/framework/dtypes.py:494: FutureWarning: Passing (type, 1) or '1type' as a synonym of type is deprecated; in a future version of numpy, it will be understood as (type, (1,)) / '(1,)type'.\n",
      "  _np_quint8 = np.dtype([(\"quint8\", np.uint8, 1)])\n",
      "/home/jhm9507/anaconda3/envs/convlab/lib/python3.6/site-packages/tensorflow/python/framework/dtypes.py:495: FutureWarning: Passing (type, 1) or '1type' as a synonym of type is deprecated; in a future version of numpy, it will be understood as (type, (1,)) / '(1,)type'.\n",
      "  _np_qint16 = np.dtype([(\"qint16\", np.int16, 1)])\n",
      "/home/jhm9507/anaconda3/envs/convlab/lib/python3.6/site-packages/tensorflow/python/framework/dtypes.py:496: FutureWarning: Passing (type, 1) or '1type' as a synonym of type is deprecated; in a future version of numpy, it will be understood as (type, (1,)) / '(1,)type'.\n",
      "  _np_quint16 = np.dtype([(\"quint16\", np.uint16, 1)])\n",
      "/home/jhm9507/anaconda3/envs/convlab/lib/python3.6/site-packages/tensorflow/python/framework/dtypes.py:497: FutureWarning: Passing (type, 1) or '1type' as a synonym of type is deprecated; in a future version of numpy, it will be understood as (type, (1,)) / '(1,)type'.\n",
      "  _np_qint32 = np.dtype([(\"qint32\", np.int32, 1)])\n",
      "/home/jhm9507/anaconda3/envs/convlab/lib/python3.6/site-packages/tensorflow/python/framework/dtypes.py:502: FutureWarning: Passing (type, 1) or '1type' as a synonym of type is deprecated; in a future version of numpy, it will be understood as (type, (1,)) / '(1,)type'.\n",
      "  np_resource = np.dtype([(\"resource\", np.ubyte, 1)])\n",
      "/home/jhm9507/anaconda3/envs/convlab/lib/python3.6/site-packages/tensorboard/compat/tensorflow_stub/dtypes.py:541: FutureWarning: Passing (type, 1) or '1type' as a synonym of type is deprecated; in a future version of numpy, it will be understood as (type, (1,)) / '(1,)type'.\n",
      "  _np_qint8 = np.dtype([(\"qint8\", np.int8, 1)])\n",
      "/home/jhm9507/anaconda3/envs/convlab/lib/python3.6/site-packages/tensorboard/compat/tensorflow_stub/dtypes.py:542: FutureWarning: Passing (type, 1) or '1type' as a synonym of type is deprecated; in a future version of numpy, it will be understood as (type, (1,)) / '(1,)type'.\n",
      "  _np_quint8 = np.dtype([(\"quint8\", np.uint8, 1)])\n",
      "/home/jhm9507/anaconda3/envs/convlab/lib/python3.6/site-packages/tensorboard/compat/tensorflow_stub/dtypes.py:543: FutureWarning: Passing (type, 1) or '1type' as a synonym of type is deprecated; in a future version of numpy, it will be understood as (type, (1,)) / '(1,)type'.\n",
      "  _np_qint16 = np.dtype([(\"qint16\", np.int16, 1)])\n",
      "/home/jhm9507/anaconda3/envs/convlab/lib/python3.6/site-packages/tensorboard/compat/tensorflow_stub/dtypes.py:544: FutureWarning: Passing (type, 1) or '1type' as a synonym of type is deprecated; in a future version of numpy, it will be understood as (type, (1,)) / '(1,)type'.\n",
      "  _np_quint16 = np.dtype([(\"quint16\", np.uint16, 1)])\n",
      "/home/jhm9507/anaconda3/envs/convlab/lib/python3.6/site-packages/tensorboard/compat/tensorflow_stub/dtypes.py:545: FutureWarning: Passing (type, 1) or '1type' as a synonym of type is deprecated; in a future version of numpy, it will be understood as (type, (1,)) / '(1,)type'.\n",
      "  _np_qint32 = np.dtype([(\"qint32\", np.int32, 1)])\n",
      "/home/jhm9507/anaconda3/envs/convlab/lib/python3.6/site-packages/tensorboard/compat/tensorflow_stub/dtypes.py:550: FutureWarning: Passing (type, 1) or '1type' as a synonym of type is deprecated; in a future version of numpy, it will be understood as (type, (1,)) / '(1,)type'.\n",
      "  np_resource = np.dtype([(\"resource\", np.ubyte, 1)])\n"
     ]
    }
   ],
   "source": [
    "from transformers import AlbertForMaskedLM, AlbertConfig"
   ]
  },
  {
   "cell_type": "code",
   "execution_count": 2,
   "metadata": {
    "collapsed": false
   },
   "outputs": [
    {
     "data": {
      "text/plain": [
       "AlbertConfig {\n",
       "  \"attention_probs_dropout_prob\": 0,\n",
       "  \"bos_token_id\": 2,\n",
       "  \"classifier_dropout_prob\": 0.1,\n",
       "  \"embedding_size\": 128,\n",
       "  \"eos_token_id\": 3,\n",
       "  \"hidden_act\": \"gelu_new\",\n",
       "  \"hidden_dropout_prob\": 0,\n",
       "  \"hidden_size\": 4096,\n",
       "  \"initializer_range\": 0.02,\n",
       "  \"inner_group_num\": 1,\n",
       "  \"intermediate_size\": 16384,\n",
       "  \"layer_norm_eps\": 1e-12,\n",
       "  \"max_position_embeddings\": 512,\n",
       "  \"model_type\": \"albert\",\n",
       "  \"num_attention_heads\": 64,\n",
       "  \"num_hidden_groups\": 1,\n",
       "  \"num_hidden_layers\": 12,\n",
       "  \"pad_token_id\": 0,\n",
       "  \"type_vocab_size\": 2,\n",
       "  \"vocab_size\": 30000\n",
       "}"
      ]
     },
     "execution_count": 2,
     "metadata": {},
     "output_type": "execute_result"
    }
   ],
   "source": [
    "config = AlbertConfig()\n",
    "config"
   ]
  },
  {
   "cell_type": "code",
   "execution_count": 3,
   "metadata": {
    "collapsed": true
   },
   "outputs": [],
   "source": [
    "config.hidden_size = 512\n",
    "config.num_attention_heads = 1\n",
    "config.num_hidden_layers = 1\n",
    "config.intermediate_size = 2048"
   ]
  },
  {
   "cell_type": "code",
   "execution_count": 4,
   "metadata": {
    "collapsed": false
   },
   "outputs": [],
   "source": [
    "bert = AlbertForMaskedLM(config)"
   ]
  },
  {
   "cell_type": "code",
   "execution_count": 5,
   "metadata": {
    "collapsed": false
   },
   "outputs": [
    {
     "data": {
      "text/plain": [
       "Linear(in_features=512, out_features=512, bias=True)"
      ]
     },
     "execution_count": 5,
     "metadata": {},
     "output_type": "execute_result"
    }
   ],
   "source": [
    "bert.albert.pooler"
   ]
  },
  {
   "cell_type": "code",
   "execution_count": 6,
   "metadata": {
    "collapsed": false
   },
   "outputs": [],
   "source": [
    "import torch\n",
    "inputs = torch.randint(0, 100, size=(4, 10))\n",
    "labels = torch.ones(4, 10, dtype=torch.int64) * -100\n",
    "pad_mask = (inputs != 0)\n",
    "outputs = bert.forward(inputs, masked_lm_labels=labels, attention_mask=pad_mask)"
   ]
  },
  {
   "cell_type": "code",
   "execution_count": 7,
   "metadata": {
    "collapsed": false,
    "scrolled": true
   },
   "outputs": [
    {
     "data": {
      "text/plain": [
       "(tensor(0., grad_fn=<NllLossBackward>),\n",
       " tensor([[[ 1.5372e-01,  1.0267e-02,  5.0252e-01,  ...,  2.5084e-01,\n",
       "           -2.1289e-01,  1.3701e-01],\n",
       "          [ 9.7433e-02,  1.3431e-01, -4.3101e-02,  ...,  2.0280e-01,\n",
       "           -1.2293e-01,  4.5106e-01],\n",
       "          [-5.0311e-02, -2.9421e-01,  1.5207e-01,  ..., -1.6589e-01,\n",
       "           -4.4264e-04,  1.7829e-01],\n",
       "          ...,\n",
       "          [-1.9884e-01,  1.9280e-02,  1.8219e-01,  ...,  1.4910e-01,\n",
       "            8.3534e-02,  2.1023e-01],\n",
       "          [ 5.7323e-02, -1.9192e-01,  1.6977e-01,  ..., -7.8223e-02,\n",
       "            4.4520e-02,  5.8063e-02],\n",
       "          [ 3.5290e-02,  7.6993e-02,  4.5884e-01,  ..., -6.8982e-02,\n",
       "           -3.8315e-03,  1.7091e-01]],\n",
       " \n",
       "         [[ 5.9112e-02, -1.6147e-01,  3.9948e-01,  ...,  4.1319e-01,\n",
       "           -1.6413e-01,  6.8570e-02],\n",
       "          [-1.4340e-01, -6.2703e-02,  2.8476e-01,  ...,  2.8530e-01,\n",
       "           -7.1366e-02,  2.1296e-01],\n",
       "          [-1.6033e-02, -2.5216e-01,  3.9948e-01,  ..., -9.1924e-02,\n",
       "           -2.0637e-01, -5.5949e-02],\n",
       "          ...,\n",
       "          [ 8.0329e-03, -5.3351e-02,  4.5956e-01,  ..., -1.0556e-01,\n",
       "            1.4531e-01,  1.4431e-01],\n",
       "          [ 2.4462e-01, -5.5671e-02,  3.4405e-01,  ...,  1.1828e-01,\n",
       "           -2.0422e-01,  1.2473e-01],\n",
       "          [ 2.1784e-02, -6.7289e-02,  4.1858e-01,  ...,  7.9595e-02,\n",
       "           -2.4230e-02,  1.4608e-01]],\n",
       " \n",
       "         [[ 2.2696e-01,  5.2579e-02,  4.9149e-01,  ...,  4.7038e-01,\n",
       "           -3.4549e-01, -1.0946e-01],\n",
       "          [-3.1722e-01, -5.6224e-02,  8.3095e-02,  ...,  4.0366e-01,\n",
       "            1.0407e-02,  5.9329e-01],\n",
       "          [ 1.1057e-01, -1.3527e-01,  1.5991e-01,  ...,  1.9654e-01,\n",
       "           -1.4448e-01,  9.5610e-02],\n",
       "          ...,\n",
       "          [-7.3370e-02,  1.1590e-01,  4.0270e-01,  ...,  1.7015e-01,\n",
       "           -3.8705e-02,  3.8314e-01],\n",
       "          [-1.5115e-01,  4.2261e-02,  1.6623e-01,  ...,  3.0050e-01,\n",
       "           -2.2786e-01, -5.1852e-02],\n",
       "          [ 3.8638e-04,  1.5884e-03,  5.7236e-01,  ...,  8.9919e-03,\n",
       "           -3.3087e-01,  1.2565e-01]],\n",
       " \n",
       "         [[ 9.1283e-02, -8.9066e-02,  4.1793e-01,  ...,  2.7432e-01,\n",
       "           -1.5668e-01, -1.0362e-01],\n",
       "          [-1.9897e-01, -9.6332e-02, -5.1772e-02,  ...,  1.8534e-01,\n",
       "           -2.6268e-01,  3.2692e-01],\n",
       "          [ 1.0090e-01, -1.3946e-01,  3.5395e-01,  ..., -8.9462e-02,\n",
       "           -1.7152e-01,  5.4188e-02],\n",
       "          ...,\n",
       "          [-2.3666e-01, -4.8100e-02,  4.5580e-01,  ...,  4.2928e-02,\n",
       "            5.4158e-02,  1.3450e-01],\n",
       "          [-9.7442e-02, -1.3607e-01,  5.6201e-01,  ...,  1.8774e-01,\n",
       "           -2.0331e-01,  5.2634e-02],\n",
       "          [ 1.4722e-01, -1.3797e-02,  4.0105e-01,  ..., -1.2213e-01,\n",
       "           -1.5637e-01,  1.7668e-01]]], grad_fn=<AddBackward0>))"
      ]
     },
     "execution_count": 7,
     "metadata": {},
     "output_type": "execute_result"
    }
   ],
   "source": [
    "outputs"
   ]
  },
  {
   "cell_type": "code",
   "execution_count": null,
   "metadata": {
    "collapsed": true
   },
   "outputs": [],
   "source": []
  }
 ],
 "metadata": {
  "kernelspec": {
   "display_name": "convlab",
   "language": "python",
   "name": "convlab"
  },
  "language_info": {
   "codemirror_mode": {
    "name": "ipython",
    "version": 3
   },
   "file_extension": ".py",
   "mimetype": "text/x-python",
   "name": "python",
   "nbconvert_exporter": "python",
   "pygments_lexer": "ipython3",
   "version": "3.6.10"
  }
 },
 "nbformat": 4,
 "nbformat_minor": 1
}
